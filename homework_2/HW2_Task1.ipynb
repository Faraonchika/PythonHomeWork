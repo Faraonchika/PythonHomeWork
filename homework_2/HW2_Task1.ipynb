{
 "cells": [
  {
   "cell_type": "code",
   "execution_count": 29,
   "metadata": {},
   "outputs": [],
   "source": [
    "s1_1 = 'Жи ши пиши с буквой и!'\n",
    "s1_2 = 'Жы шы пишы с буквой ы!'\n",
    "s2_1 = 'Ча ща пиши с буквой а!'\n",
    "s2_2 = 'Чя щя пиши с буквой я!'"
   ]
  },
  {
   "cell_type": "code",
   "execution_count": 27,
   "metadata": {},
   "outputs": [],
   "source": [
    "def checkGrammar(s1_1):\n",
    "    wrong = 0\n",
    "    for i in range(1, len(s1_1) - 1):\n",
    "        if s1_1[i-1:i+1] == 'жы' or s1_1[i-1:i+1] == 'Жы':\n",
    "            wrong = 1\n",
    "        if s1_1[i-1:i+1] == 'шы' or s1_1[i-1:i+1] == 'Шы':\n",
    "            wrong = 1\n",
    "        if s1_1[i-1:i+1] == 'чя' or s1_1[i-1:i+1] == 'Чя':\n",
    "            wrong = 1\n",
    "        if s1_1[i-1:i+1] == 'щя' or s1_1[i-1:i+1] == 'Щя':\n",
    "            wrong = 1\n",
    "    if wrong == 1:\n",
    "        print('Была допущена ошибка')\n",
    "    else:\n",
    "        print('Правила соблюдены')"
   ]
  },
  {
   "cell_type": "code",
   "execution_count": 30,
   "metadata": {},
   "outputs": [
    {
     "name": "stdout",
     "output_type": "stream",
     "text": [
      "Правила соблюдены\n"
     ]
    }
   ],
   "source": [
    "checkGrammar(s1_1)"
   ]
  },
  {
   "cell_type": "code",
   "execution_count": 31,
   "metadata": {},
   "outputs": [
    {
     "name": "stdout",
     "output_type": "stream",
     "text": [
      "Была допущена ошибка\n"
     ]
    }
   ],
   "source": [
    "checkGrammar(s1_2)"
   ]
  },
  {
   "cell_type": "code",
   "execution_count": 32,
   "metadata": {},
   "outputs": [
    {
     "name": "stdout",
     "output_type": "stream",
     "text": [
      "Правила соблюдены\n"
     ]
    }
   ],
   "source": [
    "checkGrammar(s2_1)"
   ]
  },
  {
   "cell_type": "code",
   "execution_count": 33,
   "metadata": {},
   "outputs": [
    {
     "name": "stdout",
     "output_type": "stream",
     "text": [
      "Была допущена ошибка\n"
     ]
    }
   ],
   "source": [
    "checkGrammar(s2_2)"
   ]
  },
  {
   "cell_type": "code",
   "execution_count": 39,
   "metadata": {},
   "outputs": [],
   "source": [
    "dictation = '1. Держи тетрадь в чистоте. 2. Пишы без ошибок. 3. Положи вилки и ножи на стол. 4. В лесу цветут ландыши. 5. Сумка из кожи. 6. Лисий мех пушистый. 7. Живет без тела, говорит без языка.'"
   ]
  },
  {
   "cell_type": "code",
   "execution_count": 40,
   "metadata": {},
   "outputs": [
    {
     "name": "stdout",
     "output_type": "stream",
     "text": [
      "Была допущена ошибка\n"
     ]
    }
   ],
   "source": [
    "checkGrammar(dictation)"
   ]
  }
 ],
 "metadata": {
  "kernelspec": {
   "display_name": "Python 3",
   "language": "python",
   "name": "python3"
  },
  "language_info": {
   "codemirror_mode": {
    "name": "ipython",
    "version": 3
   },
   "file_extension": ".py",
   "mimetype": "text/x-python",
   "name": "python",
   "nbconvert_exporter": "python",
   "pygments_lexer": "ipython3",
   "version": "3.7.3"
  }
 },
 "nbformat": 4,
 "nbformat_minor": 2
}
