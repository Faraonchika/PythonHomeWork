{
 "cells": [
  {
   "cell_type": "markdown",
   "metadata": {},
   "source": [
    "## Задача 1"
   ]
  },
  {
   "cell_type": "code",
   "execution_count": 4,
   "metadata": {},
   "outputs": [],
   "source": [
    "def decorator(func):\n",
    "    def wrapper(*args, **kwargs):\n",
    "        try:\n",
    "            func(*args, **kwargs)\n",
    "        except ZeroDivisionError:\n",
    "            print(\"Вы попытались разделить на 0!\")\n",
    "        except IndexError:\n",
    "            print(\"Ошибка при индексации!\")\n",
    "        except KeyError:\n",
    "            print(\"В словаре нет такого ключа!\")\n",
    "        except ImportError:\n",
    "            print(\"Произошла ошибка при импорте!\")\n",
    "        except StopIteration:\n",
    "            print(\"Превышел лимит итераций!\")\n",
    "        except TypeError:\n",
    "            print(\"Функция не может быть применена к такому объекту!\")\n",
    "        except ValueError:\n",
    "            print(\"Был введен неверный тип данных!\")\n",
    "        except NameError:\n",
    "            print(\"Не удалось найти объект!\")\n",
    "        except KeyboardInterrupt:\n",
    "            print(\"Выполнение было прервано пользователем!\")\n",
    "        except:\n",
    "            print(\"Произошла ошибка!\")\n",
    "    return wrapper"
   ]
  },
  {
   "cell_type": "code",
   "execution_count": 5,
   "metadata": {},
   "outputs": [],
   "source": [
    "@decorator\n",
    "def my_count(l, u):\n",
    "    print(l[u])"
   ]
  },
  {
   "cell_type": "code",
   "execution_count": 6,
   "metadata": {},
   "outputs": [
    {
     "name": "stdout",
     "output_type": "stream",
     "text": [
      "Ошибка при индексации!\n"
     ]
    }
   ],
   "source": [
    "my_count([1,2,3], 4)"
   ]
  },
  {
   "cell_type": "code",
   "execution_count": 7,
   "metadata": {},
   "outputs": [],
   "source": [
    "@decorator\n",
    "def my_count(l, u):\n",
    "    print(lil[u])"
   ]
  },
  {
   "cell_type": "code",
   "execution_count": 8,
   "metadata": {},
   "outputs": [
    {
     "name": "stdout",
     "output_type": "stream",
     "text": [
      "Не удалось найти объект!\n"
     ]
    }
   ],
   "source": [
    "my_count([1,2,3], 4)"
   ]
  },
  {
   "cell_type": "code",
   "execution_count": 9,
   "metadata": {},
   "outputs": [],
   "source": [
    "@decorator\n",
    "def my_count(l, u, o):\n",
    "    print(l[u] / o)"
   ]
  },
  {
   "cell_type": "code",
   "execution_count": 10,
   "metadata": {},
   "outputs": [
    {
     "name": "stdout",
     "output_type": "stream",
     "text": [
      "1.5\n"
     ]
    }
   ],
   "source": [
    "my_count([1,2,3], 2, 2)"
   ]
  },
  {
   "cell_type": "code",
   "execution_count": 11,
   "metadata": {},
   "outputs": [
    {
     "name": "stdout",
     "output_type": "stream",
     "text": [
      "Вы попытались разделить на 0!\n"
     ]
    }
   ],
   "source": [
    "my_count([1,2,3], 2, 0)"
   ]
  },
  {
   "cell_type": "markdown",
   "metadata": {},
   "source": [
    "## Задача 2"
   ]
  },
  {
   "cell_type": "code",
   "execution_count": 36,
   "metadata": {},
   "outputs": [],
   "source": [
    "import sqlite3\n",
    "\n",
    "def commit_after_execute(db=\"mydatabase.db\"):\n",
    "    def inner_decorator(func):\n",
    "        def wrapper(*args, **kwargs):\n",
    "            r = func(*args, **kwargs)\n",
    "            conn = sqlite3.connect(db)\n",
    "            cursor = conn.cursor()\n",
    "            cursor.execute(\"CREATE TABLE IF NOT EXISTS data (value1 text, value2 text, value3 text);\")\n",
    "            if len(r) > 1:\n",
    "                cursor.executemany(\"INSERT  INTO data (value1, value2, value3) values (?, ?, ?)\", r)\n",
    "                conn.commit()\n",
    "                cursor.execute(\"SELECT rowid, * FROM data\")\n",
    "                print(cursor.fetchall())\n",
    "\n",
    "            else:\n",
    "                cursor.execute(\"INSERT  INTO data (value1, value2, value3) values (?, ?, ?)\", r[0])\n",
    "                conn.commit()\n",
    "                cursor.execute(\"SELECT rowid, * FROM data\")\n",
    "                print(cursor.fetchall())\n",
    "        return wrapper\n",
    "    return inner_decorator"
   ]
  },
  {
   "cell_type": "code",
   "execution_count": 37,
   "metadata": {},
   "outputs": [],
   "source": [
    "# Можем опционально указать необходимую базу данных\n",
    "@commit_after_execute()\n",
    "def my_count(r):\n",
    "    l = []\n",
    "    for i in range(r):\n",
    "        l.append(tuple(range(i, 3 + i)))\n",
    "    return l"
   ]
  },
  {
   "cell_type": "code",
   "execution_count": 41,
   "metadata": {},
   "outputs": [
    {
     "name": "stdout",
     "output_type": "stream",
     "text": [
      "[(0, 1, 2), (1, 2, 3), (2, 3, 4), (3, 4, 5), (4, 5, 6)]\n",
      "[(1, '0', '1', '2'), (2, '1', '2', '3'), (3, '2', '3', '4'), (4, '0', '1', '2'), (5, '1', '2', '3'), (6, '2', '3', '4'), (7, '0', '1', '2'), (8, '1', '2', '3'), (9, '2', '3', '4'), (10, '0', '1', '2'), (11, '1', '2', '3'), (12, '2', '3', '4'), (13, '0', '1', '2'), (14, '1', '2', '3'), (15, '2', '3', '4'), (16, '0', '1', '2'), (17, '1', '2', '3'), (18, '2', '3', '4'), (19, '0', '1', '2'), (20, '1', '2', '3'), (21, '2', '3', '4'), (22, '0', '1', '2'), (23, '1', '2', '3'), (24, '2', '3', '4'), (25, '0', '1', '2'), (26, '0', '1', '2'), (27, '0', '1', '2'), (28, '0', '1', '2'), (29, '1', '2', '3'), (30, '2', '3', '4'), (31, '3', '4', '5'), (32, '4', '5', '6')]\n"
     ]
    }
   ],
   "source": [
    "my_count(5)"
   ]
  },
  {
   "cell_type": "markdown",
   "metadata": {},
   "source": [
    "## Задача 3"
   ]
  },
  {
   "cell_type": "code",
   "execution_count": 82,
   "metadata": {},
   "outputs": [],
   "source": [
    "def chessCheck(inp):\n",
    "    def findRound(c):\n",
    "        letters = [\"nothingll\", \"A\", \"B\", \"C\", \"D\", \"E\", \"F\", \"G\", \"H\", \"nothingrl\"]\n",
    "        numbers = [\"nothingln\"] + list(map(str, [1, 2, 3, 4, 5, 6, 7, 8])) + [\"nothingrn\"]\n",
    "        li = letters.index(c[0])\n",
    "        ni = numbers.index(c[1])\n",
    "        moves = [[1, 0], [1, 1], [0, 1], [-1, 1], [-1, 0], [-1, -1], [0, -1], [1, -1]]\n",
    "        r = []\n",
    "        for now in moves:\n",
    "            r.append(letters[li + now[0]] + numbers[ni + now[1]])\n",
    "        return r\n",
    "\n",
    "    def findLad(c):\n",
    "        letters = [\"nothingll\", \"A\", \"B\", \"C\", \"D\", \"E\", \"F\", \"G\", \"H\", \"nothingrl\"]\n",
    "        numbers = [\"nothingln\"] + list(map(str, [1, 2, 3, 4, 5, 6, 7, 8])) + [\"nothingrn\"]\n",
    "        li = letters.index(c[0])\n",
    "        ni = numbers.index(c[1])\n",
    "        r = []\n",
    "        for i in range(1, len(numbers)-1):\n",
    "            r.append(c[0] + numbers[i])\n",
    "            r.append(letters[i] + c[1])\n",
    "        return r\n",
    "    \n",
    "    \n",
    "    sinp = inp.split()\n",
    "    for i in range(len(sinp)):\n",
    "        if sinp[i] in sinp[:i] + sinp[i+1:]:\n",
    "            return ValueError(\"Несколько фигур не могут стоять на одной клетке\")\n",
    "        if not \"A\" <= sinp[i][0] <= \"H\" or not 1 <= int(sinp[i][1]) <= 8:\n",
    "            return ValueError(\"Фигуры стоят за пределами доски\")\n",
    "    pwk = findRound(sinp[0])\n",
    "    pwl = findLad(sinp[1])\n",
    "    pbk = findRound(sinp[2])\n",
    "    if sinp[2] in pwl and set([x for x in pbk if not 'nothing' in x]) - set(pwk) - set(pwl) == set():\n",
    "        return \"Checkmate\"\n",
    "    if sinp[0] in pbk:\n",
    "        return \"Strange\"\n",
    "    if sinp[2] in pwl:\n",
    "        return \"Check\"\n",
    "    if set([x for x in pbk if not 'nothing' in x]) - set(pwk) - set(pwl) == set():\n",
    "        return \"Stalemate\"\n",
    "    else:\n",
    "        return \"Normal\""
   ]
  },
  {
   "cell_type": "code",
   "execution_count": 83,
   "metadata": {},
   "outputs": [
    {
     "data": {
      "text/plain": [
       "ValueError('Несколько фигур не могут стоять на одной клетке')"
      ]
     },
     "execution_count": 83,
     "metadata": {},
     "output_type": "execute_result"
    }
   ],
   "source": [
    "inp = \"A1 A1 D8\"\n",
    "chessCheck(inp)"
   ]
  },
  {
   "cell_type": "code",
   "execution_count": 84,
   "metadata": {},
   "outputs": [
    {
     "data": {
      "text/plain": [
       "ValueError('Фигуры стоят за пределами доски')"
      ]
     },
     "execution_count": 84,
     "metadata": {},
     "output_type": "execute_result"
    }
   ],
   "source": [
    "inp = \"A9 A1 D8\"\n",
    "chessCheck(inp)"
   ]
  },
  {
   "cell_type": "code",
   "execution_count": 85,
   "metadata": {},
   "outputs": [
    {
     "data": {
      "text/plain": [
       "ValueError('Фигуры стоят за пределами доски')"
      ]
     },
     "execution_count": 85,
     "metadata": {},
     "output_type": "execute_result"
    }
   ],
   "source": [
    "inp = \"A3 A1 U8\"\n",
    "chessCheck(inp)"
   ]
  },
  {
   "cell_type": "code",
   "execution_count": 86,
   "metadata": {},
   "outputs": [
    {
     "data": {
      "text/plain": [
       "'Strange'"
      ]
     },
     "execution_count": 86,
     "metadata": {},
     "output_type": "execute_result"
    }
   ],
   "source": [
    "inp = \"A1 D8 A2\"\n",
    "chessCheck(inp)"
   ]
  },
  {
   "cell_type": "code",
   "execution_count": 87,
   "metadata": {},
   "outputs": [
    {
     "data": {
      "text/plain": [
       "'Normal'"
      ]
     },
     "execution_count": 87,
     "metadata": {},
     "output_type": "execute_result"
    }
   ],
   "source": [
    "inp = \"A1 D8 A5\"\n",
    "chessCheck(inp)"
   ]
  },
  {
   "cell_type": "code",
   "execution_count": 88,
   "metadata": {},
   "outputs": [
    {
     "data": {
      "text/plain": [
       "'Check'"
      ]
     },
     "execution_count": 88,
     "metadata": {},
     "output_type": "execute_result"
    }
   ],
   "source": [
    "inp = \"A1 D5 A5\"\n",
    "chessCheck(inp)"
   ]
  },
  {
   "cell_type": "code",
   "execution_count": 89,
   "metadata": {},
   "outputs": [
    {
     "data": {
      "text/plain": [
       "'Stalemate'"
      ]
     },
     "execution_count": 89,
     "metadata": {},
     "output_type": "execute_result"
    }
   ],
   "source": [
    "inp = \"A3 B8 A1\"\n",
    "chessCheck(inp)"
   ]
  },
  {
   "cell_type": "code",
   "execution_count": 90,
   "metadata": {},
   "outputs": [
    {
     "data": {
      "text/plain": [
       "'Checkmate'"
      ]
     },
     "execution_count": 90,
     "metadata": {},
     "output_type": "execute_result"
    }
   ],
   "source": [
    "inp = \"C2 A8 A1\"\n",
    "chessCheck(inp)"
   ]
  },
  {
   "cell_type": "code",
   "execution_count": null,
   "metadata": {},
   "outputs": [],
   "source": []
  }
 ],
 "metadata": {
  "kernelspec": {
   "display_name": "Python 3",
   "language": "python",
   "name": "python3"
  },
  "language_info": {
   "codemirror_mode": {
    "name": "ipython",
    "version": 3
   },
   "file_extension": ".py",
   "mimetype": "text/x-python",
   "name": "python",
   "nbconvert_exporter": "python",
   "pygments_lexer": "ipython3",
   "version": "3.7.3"
  }
 },
 "nbformat": 4,
 "nbformat_minor": 2
}
