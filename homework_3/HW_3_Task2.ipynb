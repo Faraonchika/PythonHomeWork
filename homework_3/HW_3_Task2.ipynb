{
 "cells": [
  {
   "cell_type": "code",
   "execution_count": 33,
   "metadata": {},
   "outputs": [],
   "source": [
    "# Вспомогательные функции:\n",
    "def stringToNum(a):\n",
    "    return list(map(int, str(a)[::-1]))\n",
    "\n",
    "def numToString(a):\n",
    "    result = ''\n",
    "    for now in a:\n",
    "        result += str(now)\n",
    "    return result\n",
    "\n",
    "def findMin(a, b):\n",
    "    a1 = str(a)\n",
    "    b1 = str(b)\n",
    "    if len(a1) > len(b1):\n",
    "        return b\n",
    "    elif len(a1) < len(b1):\n",
    "        return a\n",
    "    else:\n",
    "        return a\n",
    "\n",
    "def findMax(a, b):\n",
    "    a1 = str(a)\n",
    "    b1 = str(b)\n",
    "    if len(a1) > len(b1):\n",
    "        return a\n",
    "    elif len(a1) < len(b1):\n",
    "        return b\n",
    "    else:\n",
    "        return a"
   ]
  },
  {
   "cell_type": "code",
   "execution_count": 63,
   "metadata": {},
   "outputs": [],
   "source": [
    "def get_summ(a, b):\n",
    "    \n",
    "    minl = findMin(a, b)\n",
    "    maxl = findMax(a, b)\n",
    "    result = ''\n",
    "    memory = 0\n",
    "\n",
    "    a1 = stringToNum(a)\n",
    "    b1 = stringToNum(b)\n",
    "\n",
    "    for i in range(len(str(minl))):\n",
    "        r = a1[i] + b1[i] + memory\n",
    "        if len(str(r)) > 1:\n",
    "            s = str(r)\n",
    "            result += s[-1]\n",
    "            memory = int(s[0])\n",
    "        elif len(str(r)) == 1:\n",
    "            result += str(r)\n",
    "            memory = 0\n",
    "\n",
    "    if len(str(maxl)) == len(str(minl)):\n",
    "        return int(str(memory) + result[::-1])\n",
    "    else:\n",
    "        return int(str((int(str(maxl)[:-len(str(minl))]) + memory)) + result[::-1])"
   ]
  },
  {
   "cell_type": "code",
   "execution_count": 82,
   "metadata": {},
   "outputs": [
    {
     "data": {
      "text/plain": [
       "11674"
      ]
     },
     "execution_count": 82,
     "metadata": {},
     "output_type": "execute_result"
    }
   ],
   "source": [
    "get_summ(8953, 2721)"
   ]
  },
  {
   "cell_type": "code",
   "execution_count": 65,
   "metadata": {},
   "outputs": [
    {
     "data": {
      "text/plain": [
       "19998"
      ]
     },
     "execution_count": 65,
     "metadata": {},
     "output_type": "execute_result"
    }
   ],
   "source": [
    "get_summ(9999, 9999)"
   ]
  },
  {
   "cell_type": "code",
   "execution_count": 67,
   "metadata": {},
   "outputs": [
    {
     "data": {
      "text/plain": [
       "1000009998"
      ]
     },
     "execution_count": 67,
     "metadata": {},
     "output_type": "execute_result"
    }
   ],
   "source": [
    "get_summ(999999999, 9999)"
   ]
  },
  {
   "cell_type": "code",
   "execution_count": 68,
   "metadata": {},
   "outputs": [
    {
     "data": {
      "text/plain": [
       "1000009998"
      ]
     },
     "execution_count": 68,
     "metadata": {},
     "output_type": "execute_result"
    }
   ],
   "source": [
    "get_summ(9999, 999999999)"
   ]
  },
  {
   "cell_type": "code",
   "execution_count": 77,
   "metadata": {},
   "outputs": [],
   "source": [
    "def get_subtraction(a, b):\n",
    "    \n",
    "    minl = findMin(a, b)\n",
    "    maxl = findMax(a, b)\n",
    "    result = ''\n",
    "    memory = 0\n",
    "\n",
    "    a1 = stringToNum(a)\n",
    "    b1 = stringToNum(b)\n",
    "\n",
    "    for i in range(len(str(minl))):\n",
    "        r = a1[i] - b1[i] + memory\n",
    "        if r < 0:\n",
    "            result += str(r + 10)\n",
    "            memory = -1\n",
    "        elif r >= 0:\n",
    "            result += str(r)\n",
    "            memory = 0\n",
    "\n",
    "    if len(str(maxl)) == len(str(minl)):\n",
    "        return int(str(memory) + result[::-1])\n",
    "    else:\n",
    "        return int(str((int(str(maxl)[:-len(str(minl))]) + memory)) + result[::-1])"
   ]
  },
  {
   "cell_type": "code",
   "execution_count": 83,
   "metadata": {},
   "outputs": [
    {
     "data": {
      "text/plain": [
       "6232"
      ]
     },
     "execution_count": 83,
     "metadata": {},
     "output_type": "execute_result"
    }
   ],
   "source": [
    "get_subtraction(8953, 2721)"
   ]
  },
  {
   "cell_type": "code",
   "execution_count": 78,
   "metadata": {},
   "outputs": [
    {
     "data": {
      "text/plain": [
       "7954"
      ]
     },
     "execution_count": 78,
     "metadata": {},
     "output_type": "execute_result"
    }
   ],
   "source": [
    "get_subtraction(8953, 999)"
   ]
  },
  {
   "cell_type": "code",
   "execution_count": 79,
   "metadata": {},
   "outputs": [
    {
     "data": {
      "text/plain": [
       "0"
      ]
     },
     "execution_count": 79,
     "metadata": {},
     "output_type": "execute_result"
    }
   ],
   "source": [
    "get_subtraction(999, 999)"
   ]
  },
  {
   "cell_type": "code",
   "execution_count": 81,
   "metadata": {},
   "outputs": [
    {
     "data": {
      "text/plain": [
       "358"
      ]
     },
     "execution_count": 81,
     "metadata": {},
     "output_type": "execute_result"
    }
   ],
   "source": [
    "get_subtraction(482, 124)"
   ]
  }
 ],
 "metadata": {
  "kernelspec": {
   "display_name": "Python 3",
   "language": "python",
   "name": "python3"
  },
  "language_info": {
   "codemirror_mode": {
    "name": "ipython",
    "version": 3
   },
   "file_extension": ".py",
   "mimetype": "text/x-python",
   "name": "python",
   "nbconvert_exporter": "python",
   "pygments_lexer": "ipython3",
   "version": "3.7.3"
  }
 },
 "nbformat": 4,
 "nbformat_minor": 2
}
