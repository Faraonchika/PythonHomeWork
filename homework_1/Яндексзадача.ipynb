{
 "cells": [
  {
   "cell_type": "code",
   "execution_count": 7,
   "metadata": {},
   "outputs": [],
   "source": [
    "a = 'AAABBCXXYZDDDEEEFFFFFFFAAAAAAN'"
   ]
  },
  {
   "cell_type": "code",
   "execution_count": 8,
   "metadata": {},
   "outputs": [],
   "source": [
    "import string\n",
    "def rle(a):\n",
    "    allowed_chars = set(string.ascii_uppercase)\n",
    "    if not set(a).issubset(allowed_chars):\n",
    "        raise TypeError(\"Неверный формат строки! Введите символы A-Z\")\n",
    "    k = 1\n",
    "    newstr = ''\n",
    "    for i in range(1, len(a)):\n",
    "        if a[i - 1] == a[i]:\n",
    "            k += 1\n",
    "        else:\n",
    "            if k == 1:\n",
    "                newstr = newstr + a[i - 1]\n",
    "            else:\n",
    "                newstr = newstr + a[i - 1] + str(k)\n",
    "                k = 1\n",
    "    if k == 1:\n",
    "        newstr = newstr + a[i]\n",
    "    else:\n",
    "        newstr = newstr + a[i] + str(k)\n",
    "    return newstr"
   ]
  },
  {
   "cell_type": "code",
   "execution_count": 9,
   "metadata": {},
   "outputs": [
    {
     "data": {
      "text/plain": [
       "'A3B2CX2YZD3E3F7A6N'"
      ]
     },
     "execution_count": 9,
     "metadata": {},
     "output_type": "execute_result"
    }
   ],
   "source": [
    "rle(a)"
   ]
  },
  {
   "cell_type": "code",
   "execution_count": null,
   "metadata": {},
   "outputs": [],
   "source": []
  }
 ],
 "metadata": {
  "kernelspec": {
   "display_name": "Python 3",
   "language": "python",
   "name": "python3"
  },
  "language_info": {
   "codemirror_mode": {
    "name": "ipython",
    "version": 3
   },
   "file_extension": ".py",
   "mimetype": "text/x-python",
   "name": "python",
   "nbconvert_exporter": "python",
   "pygments_lexer": "ipython3",
   "version": "3.7.3"
  }
 },
 "nbformat": 4,
 "nbformat_minor": 2
}
