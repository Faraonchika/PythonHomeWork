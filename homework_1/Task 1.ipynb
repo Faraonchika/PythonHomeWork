{
 "cells": [
  {
   "cell_type": "code",
   "execution_count": 21,
   "metadata": {},
   "outputs": [],
   "source": [
    "def parkingallowance(day, hour):\n",
    "    if not 0 <= hour <= 24 or not 1 <= day <= 31:\n",
    "        raise TypeError(\"Неверный формат даты!\")\n",
    "    if 19 <= hour < 21:\n",
    "        print('both')\n",
    "    elif day % 2 == 0 and hour >= 21 or day % 2 > 0 and hour < 19:\n",
    "        print('left')\n",
    "    elif day % 2 > 0 and hour >= 21 or day % 2 == 0 and hour < 19:\n",
    "        print('right')"
   ]
  },
  {
   "cell_type": "code",
   "execution_count": 28,
   "metadata": {},
   "outputs": [
    {
     "name": "stdout",
     "output_type": "stream",
     "text": [
      "[1, 0]\n",
      "left\n",
      "[2, 1]\n",
      "right\n",
      "[3, 2]\n",
      "left\n",
      "[4, 3]\n",
      "right\n",
      "[5, 4]\n",
      "left\n",
      "[6, 5]\n",
      "right\n",
      "[7, 6]\n",
      "left\n",
      "[8, 7]\n",
      "right\n",
      "[9, 8]\n",
      "left\n",
      "[10, 9]\n",
      "right\n",
      "[11, 10]\n",
      "left\n",
      "[12, 11]\n",
      "right\n",
      "[13, 12]\n",
      "left\n",
      "[14, 13]\n",
      "right\n",
      "[15, 14]\n",
      "left\n",
      "[16, 15]\n",
      "right\n",
      "[17, 16]\n",
      "left\n",
      "[18, 17]\n",
      "right\n",
      "[19, 18]\n",
      "left\n",
      "[20, 19]\n",
      "both\n",
      "[21, 20]\n",
      "both\n",
      "[22, 21]\n",
      "left\n",
      "[23, 22]\n",
      "right\n",
      "[24, 23]\n",
      "left\n",
      "[25, 24]\n",
      "right\n"
     ]
    }
   ],
   "source": [
    "for i,j in zip(range(1,32), range(0,25)): print([i,j]), parkingallowance(i, j)"
   ]
  }
 ],
 "metadata": {
  "kernelspec": {
   "display_name": "Python 3",
   "language": "python",
   "name": "python3"
  },
  "language_info": {
   "codemirror_mode": {
    "name": "ipython",
    "version": 3
   },
   "file_extension": ".py",
   "mimetype": "text/x-python",
   "name": "python",
   "nbconvert_exporter": "python",
   "pygments_lexer": "ipython3",
   "version": "3.7.3"
  }
 },
 "nbformat": 4,
 "nbformat_minor": 2
}
